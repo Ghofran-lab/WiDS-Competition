{
  "cells": [
    {
      "cell_type": "markdown",
      "metadata": {
        "colab_type": "text",
        "id": "view-in-github"
      },
      "source": [
        "<a href=\"https://colab.research.google.com/github/MachineLearnia/Python-Machine-Learning/blob/master/27%20-%20Exploratory%20Data%20Analysis.ipynb\" target=\"_parent\"><img src=\"https://colab.research.google.com/assets/colab-badge.svg\" alt=\"Open In Colab\"/></a>"
      ]
    },
    {
      "cell_type": "code",
      "execution_count": 83,
      "metadata": {
        "colab": {
          "base_uri": "https://localhost:8080/",
          "height": 17
        },
        "colab_type": "code",
        "id": "px5vL00MydZM",
        "outputId": "95639b08-09ab-4815-8328-e1dde56298e4"
      },
      "outputs": [
        {
          "data": {
            "application/javascript": "IPython.OutputArea.auto_scroll_threshold = 9999\n",
            "text/plain": [
              "<IPython.core.display.Javascript object>"
            ]
          },
          "metadata": {},
          "output_type": "display_data"
        }
      ],
      "source": [
        "%%javascript\n",
        "IPython.OutputArea.auto_scroll_threshold = 9999"
      ]
    },
    {
      "cell_type": "code",
      "execution_count": 2,
      "metadata": {
        "colab": {},
        "colab_type": "code",
        "id": "dpp7upmRydZQ"
      },
      "outputs": [],
      "source": [
        "import numpy as np\n",
        "import pandas as pd\n",
        "import matplotlib.pyplot as plt\n",
        "import seaborn as sns"
      ]
    },
    {
      "cell_type": "code",
      "execution_count": 3,
      "metadata": {
        "colab": {},
        "colab_type": "code",
        "id": "3zxDwKiaydZT"
      },
      "outputs": [],
      "source": [
        "pd.set_option('display.max_row', 111)\n",
        "pd.set_option('display.max_column', 111)"
      ]
    },
    {
      "cell_type": "code",
      "execution_count": 4,
      "metadata": {},
      "outputs": [],
      "source": [
        "sample = pd.read_csv(\"./data/sample_solution.csv\", delimiter=\",\")\n",
        "train_df = pd.read_csv(\"./data/train.csv\", delimiter=\",\")\n",
        "test_df = pd.read_csv(\"./data/test.csv\", delimiter=\",\")"
      ]
    },
    {
      "cell_type": "code",
      "execution_count": 16,
      "metadata": {
        "colab": {
          "base_uri": "https://localhost:8080/",
          "height": 357
        },
        "colab_type": "code",
        "id": "jIwLo18AydZW",
        "outputId": "bd49e423-023f-4c63-9dba-89e864aa3991",
        "scrolled": true
      },
      "outputs": [],
      "source": [
        "data = train_df.copy()\n",
        "# data.head()\n"
      ]
    },
    {
      "cell_type": "markdown",
      "metadata": {
        "colab_type": "text",
        "id": "jcfEu7QsydZZ"
      },
      "source": [
        "# 1. Ensemble Learning Bagging (mise en sachet), Boosting (amplification), Stacking (cumul)\n",
        "\n",
        "## Objectif :\n",
        "- Accurancy 80%\n",
        "- Développer une premiere stratégie de modélisation "
      ]
    },
    {
      "cell_type": "code",
      "execution_count": 1,
      "metadata": {},
      "outputs": [],
      "source": [
        "# building_char = df.iloc[list(range(0,7))].copy()\n",
        "# climate_reg = df.iloc[list(range(8, 36))]\n",
        "# weather_reg = df.iloc[list(range(37, 62))]\n",
        "# building_char.head()\n",
        "# # ???? à corriger "
      ]
    },
    {
      "cell_type": "code",
      "execution_count": 7,
      "metadata": {},
      "outputs": [],
      "source": [
        "# df.dtypes.value_counts()\n",
        "# # .plot.pie()"
      ]
    },
    {
      "cell_type": "code",
      "execution_count": 8,
      "metadata": {
        "colab": {
          "base_uri": "https://localhost:8080/",
          "height": 876
        },
        "colab_type": "code",
        "id": "uMLhPtslydZg",
        "outputId": "a7c1b03d-bf0a-4eca-e831-8231bd9c43be"
      },
      "outputs": [],
      "source": [
        "# plt.figure(figsize=(20,10))\n",
        "# sns.heatmap(df.isna(), cbar=False)"
      ]
    },
    {
      "cell_type": "code",
      "execution_count": 9,
      "metadata": {
        "colab": {
          "base_uri": "https://localhost:8080/",
          "height": 1000
        },
        "colab_type": "code",
        "id": "rckNQ7O_ydZh",
        "outputId": "0de3ec60-42bf-4eaa-a7c5-2799eba5a91e"
      },
      "outputs": [],
      "source": [
        "# (df.isna().sum()/df.shape[0]).sort_values(ascending=True)"
      ]
    },
    {
      "cell_type": "markdown",
      "metadata": {
        "colab_type": "text",
        "id": "404UmXS7ydZk"
      },
      "source": [
        "## Analyse du Fond\n",
        "### 1.  Elimination des colonnes inutiles"
      ]
    },
    {
      "cell_type": "code",
      "execution_count": 17,
      "metadata": {
        "colab": {},
        "colab_type": "code",
        "id": "qQJvZH3cydZo"
      },
      "outputs": [],
      "source": [
        "data = data.drop(['id', 'direction_max_wind_speed', 'days_with_fog', 'max_wind_speed', 'direction_peak_wind_speed'], axis=1)"
      ]
    },
    {
      "cell_type": "markdown",
      "metadata": {},
      "source": [
        "### Ensemble learning 1: Bagging"
      ]
    },
    {
      "cell_type": "code",
      "execution_count": 20,
      "metadata": {},
      "outputs": [],
      "source": [
        "from sklearn.ensemble import BaggingClassifier, RandomForestClassifier\n",
        "from sklearn.neighbors import KNeighborsClassifier"
      ]
    },
    {
      "cell_type": "code",
      "execution_count": null,
      "metadata": {},
      "outputs": [],
      "source": [
        "plt.scatter()"
      ]
    },
    {
      "cell_type": "code",
      "execution_count": 22,
      "metadata": {},
      "outputs": [],
      "source": [
        "model = BaggingClassifier(base_estimator= KNeighborsClassifier(),\n",
        "n_estimators=100)"
      ]
    },
    {
      "cell_type": "markdown",
      "metadata": {},
      "source": [
        "### Ensemble learning 2: Boosting"
      ]
    },
    {
      "cell_type": "markdown",
      "metadata": {},
      "source": [
        "### Ensemble learning 3: Stacking"
      ]
    },
    {
      "cell_type": "code",
      "execution_count": null,
      "metadata": {},
      "outputs": [],
      "source": []
    }
  ],
  "metadata": {
    "colab": {
      "collapsed_sections": [],
      "include_colab_link": true,
      "name": "Untitled4.ipynb",
      "provenance": []
    },
    "kernelspec": {
      "display_name": "Python 3",
      "language": "python",
      "name": "python3"
    },
    "language_info": {
      "codemirror_mode": {
        "name": "ipython",
        "version": 3
      },
      "file_extension": ".py",
      "mimetype": "text/x-python",
      "name": "python",
      "nbconvert_exporter": "python",
      "pygments_lexer": "ipython3",
      "version": "3.9.7"
    }
  },
  "nbformat": 4,
  "nbformat_minor": 0
}
